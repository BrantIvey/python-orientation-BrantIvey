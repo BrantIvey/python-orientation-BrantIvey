{
 "cells": [
  {
   "cell_type": "markdown",
   "metadata": {},
   "source": [
    "# Loops\n",
    "\n",
    "Many times in python you will find yourself wanting to do something for every element in a collection. \n",
    "This could be applying some transformation to it, printing something, or anything else!\n",
    "\n",
    "Luckily, python makes this very straightforward for us. \n",
    "\n",
    "## For Loops\n",
    "\n",
    "### General syntax: \n",
    "\n",
    "```python\n",
    "for <element> in <iterator>:\n",
    "    # do something!\n",
    "```\n",
    "\n",
    "Before we think about the `element`, we have to think about the `iterator`. \n",
    "What are we iterating over?\n",
    "The answer to this will determine what each `element` will be.\n",
    "\n",
    "<hr>\n",
    "\n",
    "### Definition - What does Iteration mean?\n",
    "\n",
    "\"**_Iteration_**, in the context of computer programming, is a process wherein a set of instructions or structures are repeated in a sequence a specified number of times or until a condition is met. When the first set of instructions is executed again, it is called an iteration. When a sequence of instructions is executed in a repeated manner, it is called a loop.\"\n",
    "Source: https://www.techopedia.com/definition/3821/iteration\n",
    "\n",
    "#### When we iterate over something....\n",
    "We are performing a specific task a specific number of times based on the \"iterator\".\n",
    "\n",
    "\n",
    "<hr>\n",
    "\n",
    "## `Element` by `Type` of `Iterator`\n",
    "\n",
    "* `Lists` - element is each **_value_**\n",
    "* `Dictionaries` - element is each **_key_**\n",
    "    * Use `<dictionary>.values()` as the `iterator` to get all the **_values_**\n",
    "    * Use `<dictionary>.key()` as the `iterator` to get all the **_keys_**\n",
    "    * Use `<dictionary>.items()` as the `iterator` to get all the keys and values as **_tuple pairs_**\n",
    "* `Sets` - element is each **_value_**\n",
    "* `Tuples` - element is each **_value_**\n",
    "\n",
    "<hr>\n",
    "\n",
    "**SPECIAL**  \n",
    "You can use the function **_enumerate_** with your iterator to return both the _index_ and the original value.\n",
    "```python\n",
    "for (ind, <element>) in enumerate(<iterable>):\n",
    "    # do something!\n",
    "```\n"
   ]
  },
  {
   "cell_type": "markdown",
   "metadata": {},
   "source": [
    "### Some Examples"
   ]
  },
  {
   "cell_type": "code",
   "execution_count": 1,
   "metadata": {},
   "outputs": [],
   "source": [
    "my_list = [1, 2, 3]\n",
    "my_dictionary = {'one': 1, 'two': 2, 'three': 3}\n",
    "my_tuple = (4, 5, 6)\n",
    "my_set = {2, 3, 5, 7}"
   ]
  },
  {
   "cell_type": "code",
   "execution_count": 2,
   "metadata": {},
   "outputs": [
    {
     "name": "stdout",
     "output_type": "stream",
     "text": [
      "List value:  1\n",
      "List value:  2\n",
      "List value:  3\n"
     ]
    }
   ],
   "source": [
    "for value in my_list:\n",
    "    print('List value: ', value)"
   ]
  },
  {
   "cell_type": "code",
   "execution_count": 3,
   "metadata": {},
   "outputs": [
    {
     "name": "stdout",
     "output_type": "stream",
     "text": [
      "Tuple value:  4\n",
      "Tuple value:  5\n",
      "Tuple value:  6\n"
     ]
    }
   ],
   "source": [
    "for value in my_tuple:\n",
    "    print('Tuple value: ', value)"
   ]
  },
  {
   "cell_type": "code",
   "execution_count": 4,
   "metadata": {},
   "outputs": [
    {
     "name": "stdout",
     "output_type": "stream",
     "text": [
      "Set value:  2\n",
      "Set value:  3\n",
      "Set value:  5\n",
      "Set value:  7\n"
     ]
    }
   ],
   "source": [
    "for value in my_set:\n",
    "    print('Set value: ', value)"
   ]
  },
  {
   "cell_type": "code",
   "execution_count": 6,
   "metadata": {},
   "outputs": [
    {
     "data": {
      "text/plain": [
       "{'one': 1, 'two': 2, 'three': 3}"
      ]
     },
     "execution_count": 6,
     "metadata": {},
     "output_type": "execute_result"
    }
   ],
   "source": [
    "my_dictionary #this line just for reference"
   ]
  },
  {
   "cell_type": "code",
   "execution_count": 7,
   "metadata": {},
   "outputs": [
    {
     "name": "stdout",
     "output_type": "stream",
     "text": [
      "Dictionary key:  one\n",
      "Dictionary key:  two\n",
      "Dictionary key:  three\n",
      "\n",
      "Dictionary key:  one\n",
      "Dictionary key:  two\n",
      "Dictionary key:  three\n",
      "\n",
      "Dictionary value:  1\n",
      "Dictionary value:  2\n",
      "Dictionary value:  3\n",
      "\n",
      "Dictionary key/value:  one 1\n",
      "Dictionary key/value:  two 2\n",
      "Dictionary key/value:  three 3\n"
     ]
    }
   ],
   "source": [
    "for key in my_dictionary:\n",
    "    print('Dictionary key: ', key)\n",
    "    \n",
    "print()\n",
    "    \n",
    "for key in my_dictionary.keys():\n",
    "    print('Dictionary key: ', key)\n",
    "    \n",
    "print()\n",
    "    \n",
    "for value in my_dictionary.values():\n",
    "    print('Dictionary value: ', value)\n",
    "    \n",
    "print()\n",
    "    \n",
    "for (key, value) in my_dictionary.items():\n",
    "    print('Dictionary key/value: ', key, value)"
   ]
  },
  {
   "cell_type": "code",
   "execution_count": 8,
   "metadata": {},
   "outputs": [
    {
     "name": "stdout",
     "output_type": "stream",
     "text": [
      "Set index/value with enumerate:  0 2\n",
      "Set index/value with enumerate:  1 3\n",
      "Set index/value with enumerate:  2 5\n",
      "Set index/value with enumerate:  3 7\n"
     ]
    }
   ],
   "source": [
    "for (ind, value) in enumerate(my_set):\n",
    "    print('Set index/value with enumerate: ', ind, value)"
   ]
  },
  {
   "cell_type": "markdown",
   "metadata": {},
   "source": [
    "<hr>\n",
    "\n",
    "\n",
    "### YOUR TURN\n",
    "\n",
    "**Create a dictionary of 5 words (keys) and their definitions (values).**"
   ]
  },
  {
   "cell_type": "code",
   "execution_count": 15,
   "metadata": {},
   "outputs": [],
   "source": [
    "word_definitions = dict(      #dict() is another method for creating a dictionary\n",
    "    do ='a female deer',\n",
    "    ra = 'a drop of golden sun',\n",
    "    me = 'a name I call myself',\n",
    "    fa = 'a long, long way to run',\n",
    "    so = 'a needle pulling thread'\n",
    ")"
   ]
  },
  {
   "cell_type": "markdown",
   "metadata": {},
   "source": [
    "**Add several more words and their definitions**\n",
    "Example: \n",
    "```python\n",
    "word_definitions[\"Awesome\"] = \"The feeling of students when they are learning Python\"\n",
    "```"
   ]
  },
  {
   "cell_type": "code",
   "execution_count": 3,
   "metadata": {},
   "outputs": [],
   "source": [
    "word_definitions[\"la\"] = \"A note to follow sew\"\n",
    "word_definitions[\"te\"] = \"a drink with jam and bread\""
   ]
  },
  {
   "cell_type": "markdown",
   "metadata": {},
   "source": [
    "**Use square bracket lookup to get the definition of two words and output them to the console with `print()`**\n",
    "\n",
    "If `Awesome` is a key in your `word_definitions`, you could then write: \n",
    "\n",
    "```python\n",
    "print(word_definitions['Awesome'])\n",
    "```"
   ]
  },
  {
   "cell_type": "code",
   "execution_count": 4,
   "metadata": {},
   "outputs": [
    {
     "name": "stdout",
     "output_type": "stream",
     "text": [
      "a drop of golden sun\n",
      "a drink with jam and bread\n"
     ]
    }
   ],
   "source": [
    "print(word_definitions['ra'])\n",
    "print(word_definitions['te'])"
   ]
  },
  {
   "cell_type": "code",
   "execution_count": 5,
   "metadata": {},
   "outputs": [
    {
     "ename": "KeyError",
     "evalue": "'La'",
     "output_type": "error",
     "traceback": [
      "\u001b[1;31m---------------------------------------------------------------------------\u001b[0m",
      "\u001b[1;31mKeyError\u001b[0m                                  Traceback (most recent call last)",
      "\u001b[1;32m<ipython-input-5-d9d3cbc522ec>\u001b[0m in \u001b[0;36m<module>\u001b[1;34m\u001b[0m\n\u001b[1;32m----> 1\u001b[1;33m \u001b[0mword_definitions\u001b[0m\u001b[1;33m.\u001b[0m\u001b[0mpop\u001b[0m\u001b[1;33m(\u001b[0m\u001b[1;34m\"La\"\u001b[0m\u001b[1;33m)\u001b[0m\u001b[1;33m\u001b[0m\u001b[1;33m\u001b[0m\u001b[0m\n\u001b[0m\u001b[0;32m      2\u001b[0m \u001b[0mprint\u001b[0m\u001b[1;33m(\u001b[0m\u001b[0mword_definitions\u001b[0m\u001b[1;33m)\u001b[0m\u001b[1;33m\u001b[0m\u001b[1;33m\u001b[0m\u001b[0m\n",
      "\u001b[1;31mKeyError\u001b[0m: 'La'"
     ]
    }
   ],
   "source": [
    "word_definitions.pop(\"La\")\n",
    "print(word_definitions) "
   ]
  },
  {
   "cell_type": "markdown",
   "metadata": {},
   "source": [
    "**Loop over the dictionary to get the following output:**\n",
    "```\n",
    "The definition of [WORD] is [DEFINITION]\n",
    "The definition of [WORD] is [DEFINITION]\n",
    "The definition of [WORD] is [DEFINITION]\n",
    "```"
   ]
  },
  {
   "cell_type": "code",
   "execution_count": 6,
   "metadata": {},
   "outputs": [
    {
     "name": "stdout",
     "output_type": "stream",
     "text": [
      "Dictionary key/value:  do --> a female deer\n",
      "Dictionary key/value:  ra --> a drop of golden sun\n",
      "Dictionary key/value:  me --> a name I call myself\n",
      "Dictionary key/value:  fa --> a long, long way to run\n",
      "Dictionary key/value:  so --> a needle pulling thread\n",
      "Dictionary key/value:  la --> A note to follow sew\n",
      "Dictionary key/value:  te --> a drink with jam and bread\n"
     ]
    }
   ],
   "source": [
    "for (key, value) in word_definitions.items():   \n",
    "    print('Dictionary key/value: ', key,\"-->\", value)\n"
   ]
  },
  {
   "cell_type": "markdown",
   "metadata": {},
   "source": [
    "<hr>"
   ]
  },
  {
   "cell_type": "markdown",
   "metadata": {},
   "source": [
    "### YOUR TURN.. AGAIN!\n",
    "\n",
    "Remember this??"
   ]
  },
  {
   "cell_type": "code",
   "execution_count": 7,
   "metadata": {},
   "outputs": [
    {
     "name": "stdout",
     "output_type": "stream",
     "text": [
      "No idea what the name could be!\n"
     ]
    }
   ],
   "source": [
    "name = 'FooBar'\n",
    "\n",
    "if name == 'Foo':\n",
    "    print('First condition met')\n",
    "\n",
    "elif name == 'Bar':\n",
    "    print('Second condition met')\n",
    "\n",
    "else:\n",
    "    print('No idea what the name could be!')"
   ]
  },
  {
   "cell_type": "code",
   "execution_count": 8,
   "metadata": {},
   "outputs": [],
   "source": [
    "primes = [2, 3, 5, 7, 11, 13, 17, 19, 23, 29, 31, 37, 41, 43, 47, 53, 59, 61, 67, 71, 73, 79, 83, 89, 97]"
   ]
  },
  {
   "cell_type": "markdown",
   "metadata": {},
   "source": [
    "* For each prime number..\n",
    "* If.. the number is even, print `Prime [NUMBER] is even!`\n",
    "* Else if.. the number is less than 10, print `Prime [NUMBER] less than 10!`\n",
    "* Else if.. the number is less than 50, print `Prime [NUMBER] less than 50!`\n",
    "* Else.. print `Prime [NUMBER] is really big!`"
   ]
  },
  {
   "cell_type": "code",
   "execution_count": 16,
   "metadata": {},
   "outputs": [
    {
     "name": "stdout",
     "output_type": "stream",
     "text": [
      "Prime 2 is even!\n",
      "Prime 3 < less than 10!\n",
      "Prime 5 < less than 10!\n",
      "Prime 7 < less than 10!\n",
      "Prime 11 < less than 50!\n",
      "Prime 13 < less than 50!\n",
      "Prime 17 < less than 50!\n",
      "Prime 19 < less than 50!\n",
      "Prime 23 < less than 50!\n",
      "Prime 29 < less than 50!\n",
      "Prime 31 < less than 50!\n",
      "Prime 37 < less than 50!\n",
      "Prime 41 < less than 50!\n",
      "Prime 43 < less than 50!\n",
      "Prime 47 < less than 50!\n",
      "Prime 53 < is really big!\n",
      "Prime 59 < is really big!\n",
      "Prime 61 < is really big!\n",
      "Prime 67 < is really big!\n",
      "Prime 71 < is really big!\n",
      "Prime 73 < is really big!\n",
      "Prime 79 < is really big!\n",
      "Prime 83 < is really big!\n",
      "Prime 89 < is really big!\n",
      "Prime 97 < is really big!\n"
     ]
    }
   ],
   "source": [
    "for value in primes:\n",
    "       \n",
    "    if (value % 2) == 0:\n",
    "        print(f'Prime {value} is even!')\n",
    "    \n",
    "    elif value < 10 :\n",
    "        print(f'Prime {value} < less than 10!')\n",
    "\n",
    "    elif value < 50:\n",
    "        print(f'Prime {value} < less than 50!')\n",
    "\n",
    "    else:\n",
    "        print(f'Prime {value} < is really big!')"
   ]
  },
  {
   "cell_type": "code",
   "execution_count": 17,
   "metadata": {},
   "outputs": [
    {
     "name": "stdout",
     "output_type": "stream",
     "text": [
      "1 is less than 10!\n",
      "2 is less than 10!\n",
      "3 is less than 10!\n",
      "4 is less than 10!\n",
      "5 is less than 10!\n",
      "6 is less than 10!\n",
      "7 is less than 10!\n",
      "8 is less than 10!\n",
      "9 is less than 10!\n"
     ]
    }
   ],
   "source": [
    "index = 1\n",
    "\n",
    "while index < 10:\n",
    "    print(f'{index} is less than 10!')\n",
    "    \n",
    "    index += 1"
   ]
  },
  {
   "cell_type": "markdown",
   "metadata": {},
   "source": [
    "### Breaking it down\n",
    "\n",
    "What is our condition??\n",
    "```index < 10```\n",
    "\n",
    "Ok.. What is our _control??_\n",
    "In other words, how are we breaking our condition?\n",
    "\n",
    "```python\n",
    "index = 1\n",
    "...\n",
    "index += 1\n",
    "```\n",
    "\n",
    "Every iteration through our loop, we add 1 to our index. \n",
    "Since our condition becomes False when the index is 10 or above, our while loop will stop at 10.\n",
    "\n",
    "### Escaping the loop\n",
    "When creating a `while loop`, it is **_ALWAYS_** important to manage your _control_ so that you can escape the loop!"
   ]
  },
  {
   "cell_type": "markdown",
   "metadata": {},
   "source": [
    "<hr>\n",
    "\n",
    "### YOUR TURN\n",
    "\n",
    "**Write a while loop that prints out `Prime [NUMBER] is less than 50` for all prime numbers that are less than 50!**"
   ]
  },
  {
   "cell_type": "code",
   "execution_count": 18,
   "metadata": {},
   "outputs": [
    {
     "data": {
      "text/plain": [
       "[2,\n",
       " 3,\n",
       " 5,\n",
       " 7,\n",
       " 11,\n",
       " 13,\n",
       " 17,\n",
       " 19,\n",
       " 23,\n",
       " 29,\n",
       " 31,\n",
       " 37,\n",
       " 41,\n",
       " 43,\n",
       " 47,\n",
       " 53,\n",
       " 59,\n",
       " 61,\n",
       " 67,\n",
       " 71,\n",
       " 73,\n",
       " 79,\n",
       " 83,\n",
       " 89,\n",
       " 97]"
      ]
     },
     "execution_count": 18,
     "metadata": {},
     "output_type": "execute_result"
    }
   ],
   "source": [
    "primes"
   ]
  },
  {
   "cell_type": "code",
   "execution_count": 20,
   "metadata": {},
   "outputs": [
    {
     "name": "stdout",
     "output_type": "stream",
     "text": [
      "2\n",
      "3\n",
      "5\n",
      "7\n",
      "11\n",
      "13\n",
      "17\n",
      "19\n",
      "23\n",
      "29\n",
      "31\n",
      "37\n",
      "41\n",
      "43\n",
      "47\n"
     ]
    }
   ],
   "source": [
    "index = 0\n",
    "\n",
    "prime = primes[index]\n",
    "    \n",
    "while prime < 50:\n",
    "    #do something  here!\n",
    "    print(prime)\n",
    "    \n",
    "    index += 1\n",
    "    prime = primes[index]"
   ]
  }
 ],
 "metadata": {
  "kernelspec": {
   "display_name": "Python 3",
   "language": "python",
   "name": "python3"
  },
  "language_info": {
   "codemirror_mode": {
    "name": "ipython",
    "version": 3
   },
   "file_extension": ".py",
   "mimetype": "text/x-python",
   "name": "python",
   "nbconvert_exporter": "python",
   "pygments_lexer": "ipython3",
   "version": "3.7.6"
  }
 },
 "nbformat": 4,
 "nbformat_minor": 4
}
